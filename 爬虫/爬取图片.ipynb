{
 "cells": [
  {
   "cell_type": "code",
   "execution_count": 3,
   "metadata": {
    "collapsed": false
   },
   "outputs": [
    {
     "name": "stdout",
     "output_type": "stream",
     "text": [
      "获取图片连接中:\n"
     ]
    },
    {
     "name": "stderr",
     "output_type": "stream",
     "text": [
      "d:\\Anaconda3\\lib\\site-packages\\requests\\packages\\urllib3\\connectionpool.py:852: InsecureRequestWarning: Unverified HTTPS request is being made. Adding certificate verification is strongly advised. See: https://urllib3.readthedocs.io/en/latest/advanced-usage.html#ssl-warnings\n",
      "  InsecureRequestWarning)\n"
     ]
    },
    {
     "ename": "KeyError",
     "evalue": "'next_page'",
     "output_type": "error",
     "traceback": [
      "\u001b[0;31m----------\u001b[0m",
      "\u001b[0;31mKeyError\u001b[0mTraceback (most recent call last)",
      "\u001b[0;32m<ipython-input-3-c9e4e4b7ff72>\u001b[0m in \u001b[0;36m<module>\u001b[0;34m()\u001b[0m\n\u001b[1;32m     57\u001b[0m     \u001b[0mgp\u001b[0m \u001b[1;33m=\u001b[0m \u001b[0mget_photos\u001b[0m\u001b[1;33m(\u001b[0m\u001b[1;33m)\u001b[0m\u001b[1;33m\u001b[0m\u001b[0m\n\u001b[1;32m     58\u001b[0m     \u001b[0mprint\u001b[0m\u001b[1;33m(\u001b[0m\u001b[1;34m'获取图片连接中:'\u001b[0m\u001b[1;33m)\u001b[0m\u001b[1;33m\u001b[0m\u001b[0m\n\u001b[0;32m---> 59\u001b[0;31m     \u001b[0mgp\u001b[0m\u001b[1;33m.\u001b[0m\u001b[0mget_ids\u001b[0m\u001b[1;33m(\u001b[0m\u001b[1;33m)\u001b[0m\u001b[1;33m\u001b[0m\u001b[0m\n\u001b[0m\u001b[1;32m     60\u001b[0m     \u001b[0mprint\u001b[0m\u001b[1;33m(\u001b[0m\u001b[1;34m'图片下载中:'\u001b[0m\u001b[1;33m)\u001b[0m\u001b[1;33m\u001b[0m\u001b[0m\n\u001b[1;32m     61\u001b[0m     \u001b[1;32mfor\u001b[0m \u001b[0mi\u001b[0m \u001b[1;32min\u001b[0m \u001b[0mrange\u001b[0m\u001b[1;33m(\u001b[0m\u001b[0mlen\u001b[0m\u001b[1;33m(\u001b[0m\u001b[0mgp\u001b[0m\u001b[1;33m.\u001b[0m\u001b[0mphotos_id\u001b[0m\u001b[1;33m)\u001b[0m\u001b[1;33m)\u001b[0m\u001b[1;33m:\u001b[0m\u001b[1;33m\u001b[0m\u001b[0m\n",
      "\u001b[0;32m<ipython-input-3-c9e4e4b7ff72>\u001b[0m in \u001b[0;36mget_ids\u001b[0;34m(self)\u001b[0m\n\u001b[1;32m     22\u001b[0m         \u001b[0mreq\u001b[0m \u001b[1;33m=\u001b[0m \u001b[0mrequests\u001b[0m\u001b[1;33m.\u001b[0m\u001b[0mget\u001b[0m\u001b[1;33m(\u001b[0m\u001b[0murl\u001b[0m\u001b[1;33m=\u001b[0m\u001b[0mself\u001b[0m\u001b[1;33m.\u001b[0m\u001b[0mtarget\u001b[0m\u001b[1;33m,\u001b[0m \u001b[0mheaders\u001b[0m\u001b[1;33m=\u001b[0m\u001b[0mself\u001b[0m\u001b[1;33m.\u001b[0m\u001b[0mheaders\u001b[0m\u001b[1;33m,\u001b[0m \u001b[0mverify\u001b[0m\u001b[1;33m=\u001b[0m\u001b[1;32mFalse\u001b[0m\u001b[1;33m)\u001b[0m\u001b[1;33m\u001b[0m\u001b[0m\n\u001b[1;32m     23\u001b[0m         \u001b[0mhtml\u001b[0m \u001b[1;33m=\u001b[0m \u001b[0mjson\u001b[0m\u001b[1;33m.\u001b[0m\u001b[0mloads\u001b[0m\u001b[1;33m(\u001b[0m\u001b[0mreq\u001b[0m\u001b[1;33m.\u001b[0m\u001b[0mtext\u001b[0m\u001b[1;33m)\u001b[0m\u001b[1;33m\u001b[0m\u001b[0m\n\u001b[0;32m---> 24\u001b[0;31m         \u001b[0mnext_page\u001b[0m \u001b[1;33m=\u001b[0m \u001b[0mhtml\u001b[0m\u001b[1;33m[\u001b[0m\u001b[1;34m'next_page'\u001b[0m\u001b[1;33m]\u001b[0m\u001b[1;33m\u001b[0m\u001b[0m\n\u001b[0m\u001b[1;32m     25\u001b[0m         \u001b[1;32mfor\u001b[0m \u001b[0meach\u001b[0m \u001b[1;32min\u001b[0m \u001b[0mhtml\u001b[0m\u001b[1;33m[\u001b[0m\u001b[1;34m'photos'\u001b[0m\u001b[1;33m]\u001b[0m\u001b[1;33m:\u001b[0m\u001b[1;33m\u001b[0m\u001b[0m\n\u001b[1;32m     26\u001b[0m             \u001b[0mself\u001b[0m\u001b[1;33m.\u001b[0m\u001b[0mphotos_id\u001b[0m\u001b[1;33m.\u001b[0m\u001b[0mappend\u001b[0m\u001b[1;33m(\u001b[0m\u001b[0meach\u001b[0m\u001b[1;33m[\u001b[0m\u001b[1;34m'id'\u001b[0m\u001b[1;33m]\u001b[0m\u001b[1;33m)\u001b[0m\u001b[1;33m\u001b[0m\u001b[0m\n",
      "\u001b[0;31mKeyError\u001b[0m: 'next_page'"
     ]
    }
   ],
   "source": [
    "import requests, json, time, sys\n",
    "from contextlib import closing\n",
    "\n",
    "class get_photos(object):\n",
    "\n",
    "    def __init__(self):\n",
    "        self.photos_id = []\n",
    "        self.download_server = 'https://unsplash.com/photos/xxx/download?force=trues'\n",
    "        self.target = 'http://unsplash.com/napi/feeds/home'\n",
    "        self.headers = {'authorization':'Client-ID c94869b36aa272dd62dfaeefed769d4115fb3189a9d1ec88ed457207747be626'}\n",
    "\n",
    "    \"\"\"\n",
    "    函数说明:获取图片ID\n",
    "    Parameters:\n",
    "        无\n",
    "    Returns:\n",
    "        无\n",
    "    Modify:\n",
    "        2017-09-13\n",
    "    \"\"\"   \n",
    "    def get_ids(self):\n",
    "        req = requests.get(url=self.target, headers=self.headers, verify=False)\n",
    "        html = json.loads(req.text)\n",
    "        next_page = html['next_page']\n",
    "        for each in html['photos']:\n",
    "            self.photos_id.append(each['id'])\n",
    "        time.sleep(1)\n",
    "        for i in range(5):\n",
    "            req = requests.get(url=next_page, headers=self.headers, verify=False)\n",
    "            html = json.loads(req.text)\n",
    "            next_page = html['next_page']\n",
    "            for each in html['photos']:\n",
    "                self.photos_id.append(each['id'])\n",
    "            time.sleep(1)\n",
    "\n",
    "\n",
    "    \"\"\"\n",
    "    函数说明:图片下载\n",
    "    Parameters:\n",
    "        无\n",
    "    Returns:\n",
    "        无\n",
    "    Modify:\n",
    "        2017-09-13\n",
    "    \"\"\"   \n",
    "    def download(self, photo_id, filename):\n",
    "        headers = {'User-Agent':'Mozilla/5.0 (Windows NT 6.1; WOW64) AppleWebKit/537.36 (KHTML, like Gecko) Chrome/61.0.3163.79 Safari/537.36'}\n",
    "        target = self.download_server.replace('xxx', photo_id)\n",
    "        with closing(requests.get(url=target, stream=True, verify = False, headers = self.headers)) as r:\n",
    "            with open('%d.jpg' % filename, 'ab+') as f:\n",
    "                for chunk in r.iter_content(chunk_size = 1024):\n",
    "                    if chunk:\n",
    "                        f.write(chunk)\n",
    "                        f.flush()\n",
    "\n",
    "if __name__ == '__main__':\n",
    "    gp = get_photos()\n",
    "    print('获取图片连接中:')\n",
    "    gp.get_ids()\n",
    "    print('图片下载中:')\n",
    "    for i in range(len(gp.photos_id)):\n",
    "        print('  正在下载第%d张图片' % (i+1))\n",
    "        gp.download(gp.photos_id[i], (i+1))"
   ]
  },
  {
   "cell_type": "code",
   "execution_count": 9,
   "metadata": {
    "collapsed": false
   },
   "outputs": [
    {
     "name": "stderr",
     "output_type": "stream",
     "text": [
      "d:\\Anaconda3\\lib\\site-packages\\requests\\packages\\urllib3\\connectionpool.py:852: InsecureRequestWarning: Unverified HTTPS request is being made. Adding certificate verification is strongly advised. See: https://urllib3.readthedocs.io/en/latest/advanced-usage.html#ssl-warnings\n",
      "  InsecureRequestWarning)\n"
     ]
    },
    {
     "name": "stdout",
     "output_type": "stream",
     "text": [
      "{\"errors\":[\"OAuth error: The access token is invalid\"]}\n"
     ]
    }
   ],
   "source": [
    "import requests\n",
    "if __name__ == '__main__':\n",
    "    target = 'http://unsplash.com/napi/feeds/home'\n",
    "    headers = {'authorization':'your Client-ID'}\n",
    "    req = requests.get(url=target, headers=headers, verify=False)\n",
    "    print(req.text)"
   ]
  },
  {
   "cell_type": "code",
   "execution_count": null,
   "metadata": {
    "collapsed": true
   },
   "outputs": [],
   "source": []
  }
 ],
 "metadata": {
  "anaconda-cloud": {},
  "kernelspec": {
   "display_name": "Python [conda root]",
   "language": "python",
   "name": "conda-root-py"
  },
  "language_info": {
   "codemirror_mode": {
    "name": "ipython",
    "version": 3
   },
   "file_extension": ".py",
   "mimetype": "text/x-python",
   "name": "python",
   "nbconvert_exporter": "python",
   "pygments_lexer": "ipython3",
   "version": "3.5.2"
  }
 },
 "nbformat": 4,
 "nbformat_minor": 1
}
